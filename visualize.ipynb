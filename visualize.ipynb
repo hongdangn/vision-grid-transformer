{
 "cells": [
  {
   "cell_type": "code",
   "execution_count": 1,
   "metadata": {},
   "outputs": [
    {
     "name": "stderr",
     "output_type": "stream",
     "text": [
      "/home/vinhvq11/anaconda3/envs/VGT/lib/python3.10/site-packages/tqdm/auto.py:21: TqdmWarning: IProgress not found. Please update jupyter and ipywidgets. See https://ipywidgets.readthedocs.io/en/stable/user_install.html\n",
      "  from .autonotebook import tqdm as notebook_tqdm\n"
     ]
    }
   ],
   "source": [
    "import os\n",
    "import shutil\n",
    "from object_detection.ditod.Wordnn_embedding import WordnnEmbedding"
   ]
  },
  {
   "cell_type": "code",
   "execution_count": 2,
   "metadata": {},
   "outputs": [
    {
     "name": "stdout",
     "output_type": "stream",
     "text": [
      "torch.Size([1, 3, 842, 596])\n"
     ]
    }
   ],
   "source": [
    "import torch\n",
    "from torchvision import transforms\n",
    "from PIL import Image\n",
    "\n",
    "# Define the path to your image\n",
    "image_path = \"data/images/01_2020_TT-BTTTT_434357_page_0.jpg\"\n",
    "\n",
    "# Define the transformation to apply to the image\n",
    "transform = transforms.Compose([\n",
    "    transforms.ToTensor()        # Convert the image to a Torch tensor\n",
    "])\n",
    "\n",
    "# Read the image using Pillow\n",
    "image = Image.open(image_path).convert('RGB')\n",
    "\n",
    "# Apply the transformation to the image\n",
    "image_tensor = transform(image)\n",
    "\n",
    "# If you want to add batch dimension, assuming batch size is 1\n",
    "image_tensor = image_tensor.unsqueeze(0)  # Add batch dimension at the beginning\n",
    "\n",
    "print(image_tensor.shape)  # Output shape should be [1 x 3 x H x W]"
   ]
  },
  {
   "cell_type": "code",
   "execution_count": 3,
   "metadata": {},
   "outputs": [],
   "source": [
    "import numpy as np\n",
    "text_feature = [np.load('data/grid_pkl/01_2020_TT-BTTTT_434357_page_0.pdf.pkl',allow_pickle=True)]"
   ]
  },
  {
   "cell_type": "code",
   "execution_count": 7,
   "metadata": {},
   "outputs": [
    {
     "data": {
      "text/plain": [
       "dict_keys(['input_ids', 'bbox_subword_list', 'texts', 'bbox_texts_list'])"
      ]
     },
     "execution_count": 7,
     "metadata": {},
     "output_type": "execute_result"
    }
   ],
   "source": [
    "text_feature[0].keys()"
   ]
  },
  {
   "cell_type": "code",
   "execution_count": 11,
   "metadata": {},
   "outputs": [],
   "source": [
    "text_feature[0]['bbox'] = text_feature[0]['bbox_subword_list'] "
   ]
  },
  {
   "cell_type": "code",
   "execution_count": 4,
   "metadata": {},
   "outputs": [
    {
     "name": "stdout",
     "output_type": "stream",
     "text": [
      "use_pretrain_weight: load model from: ./object_detection/path/xlm-roberta-uncased/\n"
     ]
    }
   ],
   "source": [
    "word_embedding = WordnnEmbedding()"
   ]
  },
  {
   "cell_type": "code",
   "execution_count": 18,
   "metadata": {},
   "outputs": [],
   "source": [
    "def forward(img, batched_inputs, stride = 1):\n",
    "    \"\"\" Forward computation\n",
    "    Args:\n",
    "        img (Tensor): in shape of [B x 3 x H x W]\n",
    "        batched_inputs (list[dict]): \n",
    "    Returns:\n",
    "        Tensor: in shape of [B x N x L x D], where D is the embedding_dim.\n",
    "    \"\"\"\n",
    "    device = img.device\n",
    "    batch_b, _, batch_h, batch_w = img.size()\n",
    "\n",
    "    chargrid_map = torch.zeros((batch_b, batch_h // stride, batch_w // stride ), dtype=torch.int64).to(device)\n",
    "    \n",
    "    for iter_b in range(batch_b):\n",
    "        per_input_ids = batched_inputs[iter_b][\"input_ids\"]   \n",
    "        per_input_bbox = batched_inputs[iter_b][\"bbox\"]\n",
    "        \n",
    "        short_length_w = min(len(per_input_ids), len(per_input_bbox)) \n",
    "        \n",
    "        if short_length_w > 0 : \n",
    "            for word_idx in range(short_length_w): \n",
    "                per_id = per_input_ids[word_idx]\n",
    "                \n",
    "                bbox = per_input_bbox[word_idx] / stride\n",
    "                w_start, h_start, w_end, h_end = bbox.round().astype(int).tolist()\n",
    "                        \n",
    "                chargrid_map[iter_b, h_start:h_end, w_start: w_end] = 100\n",
    "                chargrid_map[iter_b, h_start:h_end, w_start: w_end] = per_id\n",
    "\n",
    "    return chargrid_map "
   ]
  },
  {
   "cell_type": "code",
   "execution_count": 19,
   "metadata": {},
   "outputs": [
    {
     "ename": "NameError",
     "evalue": "name 'self' is not defined",
     "output_type": "error",
     "traceback": [
      "\u001b[0;31m---------------------------------------------------------------------------\u001b[0m",
      "\u001b[0;31mNameError\u001b[0m                                 Traceback (most recent call last)",
      "\u001b[1;32m/home/vinhvq11/Desktop/KE/train_VGT/VGT/visualize.ipynb Cell 8\u001b[0m line \u001b[0;36m1\n\u001b[0;32m----> <a href='vscode-notebook-cell:/home/vinhvq11/Desktop/KE/train_VGT/VGT/visualize.ipynb#X26sZmlsZQ%3D%3D?line=0'>1</a>\u001b[0m grid \u001b[39m=\u001b[39m forward(image_tensor, text_feature, stride \u001b[39m=\u001b[39;49m \u001b[39m1\u001b[39;49m)\n",
      "\u001b[1;32m/home/vinhvq11/Desktop/KE/train_VGT/VGT/visualize.ipynb Cell 8\u001b[0m line \u001b[0;36m2\n\u001b[1;32m     <a href='vscode-notebook-cell:/home/vinhvq11/Desktop/KE/train_VGT/VGT/visualize.ipynb#X26sZmlsZQ%3D%3D?line=23'>24</a>\u001b[0m bbox \u001b[39m=\u001b[39m per_input_bbox[word_idx] \u001b[39m/\u001b[39m stride\n\u001b[1;32m     <a href='vscode-notebook-cell:/home/vinhvq11/Desktop/KE/train_VGT/VGT/visualize.ipynb#X26sZmlsZQ%3D%3D?line=24'>25</a>\u001b[0m w_start, h_start, w_end, h_end \u001b[39m=\u001b[39m bbox\u001b[39m.\u001b[39mround()\u001b[39m.\u001b[39mastype(\u001b[39mint\u001b[39m)\u001b[39m.\u001b[39mtolist()\n\u001b[0;32m---> <a href='vscode-notebook-cell:/home/vinhvq11/Desktop/KE/train_VGT/VGT/visualize.ipynb#X26sZmlsZQ%3D%3D?line=26'>27</a>\u001b[0m \u001b[39mif\u001b[39;00m \u001b[39mself\u001b[39;49m\u001b[39m.\u001b[39muse_UNK_text:\n\u001b[1;32m     <a href='vscode-notebook-cell:/home/vinhvq11/Desktop/KE/train_VGT/VGT/visualize.ipynb#X26sZmlsZQ%3D%3D?line=27'>28</a>\u001b[0m     chargrid_map[iter_b, h_start:h_end, w_start: w_end] \u001b[39m=\u001b[39m \u001b[39m100\u001b[39m\n\u001b[1;32m     <a href='vscode-notebook-cell:/home/vinhvq11/Desktop/KE/train_VGT/VGT/visualize.ipynb#X26sZmlsZQ%3D%3D?line=28'>29</a>\u001b[0m \u001b[39melse\u001b[39;00m:\n",
      "\u001b[0;31mNameError\u001b[0m: name 'self' is not defined"
     ]
    }
   ],
   "source": [
    "grid = forward(image_tensor, text_feature, stride = 1)"
   ]
  },
  {
   "cell_type": "code",
   "execution_count": 15,
   "metadata": {},
   "outputs": [
    {
     "data": {
      "text/plain": [
       "torch.Size([1, 64, 842, 596])"
      ]
     },
     "execution_count": 15,
     "metadata": {},
     "output_type": "execute_result"
    }
   ],
   "source": [
    "grid.shape"
   ]
  },
  {
   "cell_type": "code",
   "execution_count": null,
   "metadata": {},
   "outputs": [
    {
     "name": "stdout",
     "output_type": "stream",
     "text": [
      "Requirement already satisfied: transformers in /home/vinhvq11/anaconda3/envs/docx2pdf/lib/python3.10/site-packages (4.38.2)\n",
      "Requirement already satisfied: filelock in /home/vinhvq11/anaconda3/envs/docx2pdf/lib/python3.10/site-packages (from transformers) (3.13.1)\n",
      "Requirement already satisfied: huggingface-hub<1.0,>=0.19.3 in /home/vinhvq11/anaconda3/envs/docx2pdf/lib/python3.10/site-packages (from transformers) (0.21.4)\n",
      "Requirement already satisfied: numpy>=1.17 in /home/vinhvq11/.local/lib/python3.10/site-packages (from transformers) (1.26.2)\n",
      "Requirement already satisfied: packaging>=20.0 in /home/vinhvq11/.local/lib/python3.10/site-packages (from transformers) (23.2)\n",
      "Requirement already satisfied: pyyaml>=5.1 in /home/vinhvq11/anaconda3/envs/docx2pdf/lib/python3.10/site-packages (from transformers) (6.0.1)\n",
      "Requirement already satisfied: regex!=2019.12.17 in /home/vinhvq11/anaconda3/envs/docx2pdf/lib/python3.10/site-packages (from transformers) (2023.12.25)\n",
      "Requirement already satisfied: requests in /home/vinhvq11/anaconda3/envs/docx2pdf/lib/python3.10/site-packages (from transformers) (2.31.0)\n",
      "Requirement already satisfied: tokenizers<0.19,>=0.14 in /home/vinhvq11/anaconda3/envs/docx2pdf/lib/python3.10/site-packages (from transformers) (0.15.2)\n",
      "Requirement already satisfied: safetensors>=0.4.1 in /home/vinhvq11/anaconda3/envs/docx2pdf/lib/python3.10/site-packages (from transformers) (0.4.2)\n",
      "Requirement already satisfied: tqdm>=4.27 in /home/vinhvq11/anaconda3/envs/docx2pdf/lib/python3.10/site-packages (from transformers) (4.66.1)\n",
      "Requirement already satisfied: fsspec>=2023.5.0 in /home/vinhvq11/anaconda3/envs/docx2pdf/lib/python3.10/site-packages (from huggingface-hub<1.0,>=0.19.3->transformers) (2024.2.0)\n",
      "Requirement already satisfied: typing-extensions>=3.7.4.3 in /home/vinhvq11/anaconda3/envs/docx2pdf/lib/python3.10/site-packages (from huggingface-hub<1.0,>=0.19.3->transformers) (4.8.0)\n",
      "Requirement already satisfied: charset-normalizer<4,>=2 in /home/vinhvq11/anaconda3/envs/docx2pdf/lib/python3.10/site-packages (from requests->transformers) (3.3.2)\n",
      "Requirement already satisfied: idna<4,>=2.5 in /home/vinhvq11/anaconda3/envs/docx2pdf/lib/python3.10/site-packages (from requests->transformers) (3.6)\n",
      "Requirement already satisfied: urllib3<3,>=1.21.1 in /home/vinhvq11/anaconda3/envs/docx2pdf/lib/python3.10/site-packages (from requests->transformers) (2.1.0)\n",
      "Requirement already satisfied: certifi>=2017.4.17 in /home/vinhvq11/anaconda3/envs/docx2pdf/lib/python3.10/site-packages (from requests->transformers) (2023.11.17)\n"
     ]
    }
   ],
   "source": [
    "! pip install transformers"
   ]
  },
  {
   "cell_type": "code",
   "execution_count": null,
   "metadata": {},
   "outputs": [
    {
     "name": "stderr",
     "output_type": "stream",
     "text": [
      "/home/vinhvq11/anaconda3/envs/VGT/lib/python3.10/site-packages/tqdm/auto.py:21: TqdmWarning: IProgress not found. Please update jupyter and ipywidgets. See https://ipywidgets.readthedocs.io/en/stable/user_install.html\n",
      "  from .autonotebook import tqdm as notebook_tqdm\n",
      "Some weights of BeitModel were not initialized from the model checkpoint at microsoft/dit-base and are newly initialized: ['beit.pooler.layernorm.bias', 'beit.pooler.layernorm.weight']\n",
      "You should probably TRAIN this model on a down-stream task to be able to use it for predictions and inference.\n"
     ]
    }
   ],
   "source": [
    "from transformers import AutoModel\n",
    "model = AutoModel.from_pretrained(\"microsoft/dit-base\")\n"
   ]
  },
  {
   "cell_type": "code",
   "execution_count": null,
   "metadata": {},
   "outputs": [
    {
     "ename": "AttributeError",
     "evalue": "'BeitModel' object has no attribute 'keys'",
     "output_type": "error",
     "traceback": [
      "\u001b[0;31m---------------------------------------------------------------------------\u001b[0m",
      "\u001b[0;31mAttributeError\u001b[0m                            Traceback (most recent call last)",
      "\u001b[1;32m/home/vinhvq11/Desktop/KE/train_VGT/VGT/prepare_data.ipynb Cell 8\u001b[0m line \u001b[0;36m1\n\u001b[0;32m----> <a href='vscode-notebook-cell:/home/vinhvq11/Desktop/KE/train_VGT/VGT/prepare_data.ipynb#X10sZmlsZQ%3D%3D?line=0'>1</a>\u001b[0m model\u001b[39m.\u001b[39;49mkeys()\n",
      "File \u001b[0;32m~/anaconda3/envs/VGT/lib/python3.10/site-packages/torch/nn/modules/module.py:1688\u001b[0m, in \u001b[0;36mModule.__getattr__\u001b[0;34m(self, name)\u001b[0m\n\u001b[1;32m   1686\u001b[0m     \u001b[39mif\u001b[39;00m name \u001b[39min\u001b[39;00m modules:\n\u001b[1;32m   1687\u001b[0m         \u001b[39mreturn\u001b[39;00m modules[name]\n\u001b[0;32m-> 1688\u001b[0m \u001b[39mraise\u001b[39;00m \u001b[39mAttributeError\u001b[39;00m(\u001b[39mf\u001b[39m\u001b[39m\"\u001b[39m\u001b[39m'\u001b[39m\u001b[39m{\u001b[39;00m\u001b[39mtype\u001b[39m(\u001b[39mself\u001b[39m)\u001b[39m.\u001b[39m\u001b[39m__name__\u001b[39m\u001b[39m}\u001b[39;00m\u001b[39m'\u001b[39m\u001b[39m object has no attribute \u001b[39m\u001b[39m'\u001b[39m\u001b[39m{\u001b[39;00mname\u001b[39m}\u001b[39;00m\u001b[39m'\u001b[39m\u001b[39m\"\u001b[39m)\n",
      "\u001b[0;31mAttributeError\u001b[0m: 'BeitModel' object has no attribute 'keys'"
     ]
    }
   ],
   "source": [
    "model.keys()"
   ]
  },
  {
   "cell_type": "code",
   "execution_count": null,
   "metadata": {},
   "outputs": [],
   "source": [
    "import torch\n",
    "torch.save(model.state_dict(), 'dit-base-224-p16-500k-62d53a.pth')"
   ]
  },
  {
   "cell_type": "code",
   "execution_count": null,
   "metadata": {},
   "outputs": [
    {
     "name": "stderr",
     "output_type": "stream",
     "text": [
      "Some weights of BeitModel were not initialized from the model checkpoint at microsoft/dit-base and are newly initialized: ['beit.pooler.layernorm.bias', 'beit.pooler.layernorm.weight']\n",
      "You should probably TRAIN this model on a down-stream task to be able to use it for predictions and inference.\n"
     ]
    },
    {
     "data": {
      "text/plain": [
       "<All keys matched successfully>"
      ]
     },
     "execution_count": 4,
     "metadata": {},
     "output_type": "execute_result"
    }
   ],
   "source": [
    "model.load_state_dict()"
   ]
  },
  {
   "cell_type": "code",
   "execution_count": null,
   "metadata": {},
   "outputs": [
    {
     "data": {
      "text/plain": [
       "odict_keys(['embeddings.cls_token', 'embeddings.mask_token', 'embeddings.position_embeddings', 'embeddings.patch_embeddings.projection.weight', 'embeddings.patch_embeddings.projection.bias', 'encoder.layer.0.lambda_1', 'encoder.layer.0.lambda_2', 'encoder.layer.0.attention.attention.query.weight', 'encoder.layer.0.attention.attention.query.bias', 'encoder.layer.0.attention.attention.key.weight', 'encoder.layer.0.attention.attention.value.weight', 'encoder.layer.0.attention.attention.value.bias', 'encoder.layer.0.attention.output.dense.weight', 'encoder.layer.0.attention.output.dense.bias', 'encoder.layer.0.intermediate.dense.weight', 'encoder.layer.0.intermediate.dense.bias', 'encoder.layer.0.output.dense.weight', 'encoder.layer.0.output.dense.bias', 'encoder.layer.0.layernorm_before.weight', 'encoder.layer.0.layernorm_before.bias', 'encoder.layer.0.layernorm_after.weight', 'encoder.layer.0.layernorm_after.bias', 'encoder.layer.1.lambda_1', 'encoder.layer.1.lambda_2', 'encoder.layer.1.attention.attention.query.weight', 'encoder.layer.1.attention.attention.query.bias', 'encoder.layer.1.attention.attention.key.weight', 'encoder.layer.1.attention.attention.value.weight', 'encoder.layer.1.attention.attention.value.bias', 'encoder.layer.1.attention.output.dense.weight', 'encoder.layer.1.attention.output.dense.bias', 'encoder.layer.1.intermediate.dense.weight', 'encoder.layer.1.intermediate.dense.bias', 'encoder.layer.1.output.dense.weight', 'encoder.layer.1.output.dense.bias', 'encoder.layer.1.layernorm_before.weight', 'encoder.layer.1.layernorm_before.bias', 'encoder.layer.1.layernorm_after.weight', 'encoder.layer.1.layernorm_after.bias', 'encoder.layer.2.lambda_1', 'encoder.layer.2.lambda_2', 'encoder.layer.2.attention.attention.query.weight', 'encoder.layer.2.attention.attention.query.bias', 'encoder.layer.2.attention.attention.key.weight', 'encoder.layer.2.attention.attention.value.weight', 'encoder.layer.2.attention.attention.value.bias', 'encoder.layer.2.attention.output.dense.weight', 'encoder.layer.2.attention.output.dense.bias', 'encoder.layer.2.intermediate.dense.weight', 'encoder.layer.2.intermediate.dense.bias', 'encoder.layer.2.output.dense.weight', 'encoder.layer.2.output.dense.bias', 'encoder.layer.2.layernorm_before.weight', 'encoder.layer.2.layernorm_before.bias', 'encoder.layer.2.layernorm_after.weight', 'encoder.layer.2.layernorm_after.bias', 'encoder.layer.3.lambda_1', 'encoder.layer.3.lambda_2', 'encoder.layer.3.attention.attention.query.weight', 'encoder.layer.3.attention.attention.query.bias', 'encoder.layer.3.attention.attention.key.weight', 'encoder.layer.3.attention.attention.value.weight', 'encoder.layer.3.attention.attention.value.bias', 'encoder.layer.3.attention.output.dense.weight', 'encoder.layer.3.attention.output.dense.bias', 'encoder.layer.3.intermediate.dense.weight', 'encoder.layer.3.intermediate.dense.bias', 'encoder.layer.3.output.dense.weight', 'encoder.layer.3.output.dense.bias', 'encoder.layer.3.layernorm_before.weight', 'encoder.layer.3.layernorm_before.bias', 'encoder.layer.3.layernorm_after.weight', 'encoder.layer.3.layernorm_after.bias', 'encoder.layer.4.lambda_1', 'encoder.layer.4.lambda_2', 'encoder.layer.4.attention.attention.query.weight', 'encoder.layer.4.attention.attention.query.bias', 'encoder.layer.4.attention.attention.key.weight', 'encoder.layer.4.attention.attention.value.weight', 'encoder.layer.4.attention.attention.value.bias', 'encoder.layer.4.attention.output.dense.weight', 'encoder.layer.4.attention.output.dense.bias', 'encoder.layer.4.intermediate.dense.weight', 'encoder.layer.4.intermediate.dense.bias', 'encoder.layer.4.output.dense.weight', 'encoder.layer.4.output.dense.bias', 'encoder.layer.4.layernorm_before.weight', 'encoder.layer.4.layernorm_before.bias', 'encoder.layer.4.layernorm_after.weight', 'encoder.layer.4.layernorm_after.bias', 'encoder.layer.5.lambda_1', 'encoder.layer.5.lambda_2', 'encoder.layer.5.attention.attention.query.weight', 'encoder.layer.5.attention.attention.query.bias', 'encoder.layer.5.attention.attention.key.weight', 'encoder.layer.5.attention.attention.value.weight', 'encoder.layer.5.attention.attention.value.bias', 'encoder.layer.5.attention.output.dense.weight', 'encoder.layer.5.attention.output.dense.bias', 'encoder.layer.5.intermediate.dense.weight', 'encoder.layer.5.intermediate.dense.bias', 'encoder.layer.5.output.dense.weight', 'encoder.layer.5.output.dense.bias', 'encoder.layer.5.layernorm_before.weight', 'encoder.layer.5.layernorm_before.bias', 'encoder.layer.5.layernorm_after.weight', 'encoder.layer.5.layernorm_after.bias', 'encoder.layer.6.lambda_1', 'encoder.layer.6.lambda_2', 'encoder.layer.6.attention.attention.query.weight', 'encoder.layer.6.attention.attention.query.bias', 'encoder.layer.6.attention.attention.key.weight', 'encoder.layer.6.attention.attention.value.weight', 'encoder.layer.6.attention.attention.value.bias', 'encoder.layer.6.attention.output.dense.weight', 'encoder.layer.6.attention.output.dense.bias', 'encoder.layer.6.intermediate.dense.weight', 'encoder.layer.6.intermediate.dense.bias', 'encoder.layer.6.output.dense.weight', 'encoder.layer.6.output.dense.bias', 'encoder.layer.6.layernorm_before.weight', 'encoder.layer.6.layernorm_before.bias', 'encoder.layer.6.layernorm_after.weight', 'encoder.layer.6.layernorm_after.bias', 'encoder.layer.7.lambda_1', 'encoder.layer.7.lambda_2', 'encoder.layer.7.attention.attention.query.weight', 'encoder.layer.7.attention.attention.query.bias', 'encoder.layer.7.attention.attention.key.weight', 'encoder.layer.7.attention.attention.value.weight', 'encoder.layer.7.attention.attention.value.bias', 'encoder.layer.7.attention.output.dense.weight', 'encoder.layer.7.attention.output.dense.bias', 'encoder.layer.7.intermediate.dense.weight', 'encoder.layer.7.intermediate.dense.bias', 'encoder.layer.7.output.dense.weight', 'encoder.layer.7.output.dense.bias', 'encoder.layer.7.layernorm_before.weight', 'encoder.layer.7.layernorm_before.bias', 'encoder.layer.7.layernorm_after.weight', 'encoder.layer.7.layernorm_after.bias', 'encoder.layer.8.lambda_1', 'encoder.layer.8.lambda_2', 'encoder.layer.8.attention.attention.query.weight', 'encoder.layer.8.attention.attention.query.bias', 'encoder.layer.8.attention.attention.key.weight', 'encoder.layer.8.attention.attention.value.weight', 'encoder.layer.8.attention.attention.value.bias', 'encoder.layer.8.attention.output.dense.weight', 'encoder.layer.8.attention.output.dense.bias', 'encoder.layer.8.intermediate.dense.weight', 'encoder.layer.8.intermediate.dense.bias', 'encoder.layer.8.output.dense.weight', 'encoder.layer.8.output.dense.bias', 'encoder.layer.8.layernorm_before.weight', 'encoder.layer.8.layernorm_before.bias', 'encoder.layer.8.layernorm_after.weight', 'encoder.layer.8.layernorm_after.bias', 'encoder.layer.9.lambda_1', 'encoder.layer.9.lambda_2', 'encoder.layer.9.attention.attention.query.weight', 'encoder.layer.9.attention.attention.query.bias', 'encoder.layer.9.attention.attention.key.weight', 'encoder.layer.9.attention.attention.value.weight', 'encoder.layer.9.attention.attention.value.bias', 'encoder.layer.9.attention.output.dense.weight', 'encoder.layer.9.attention.output.dense.bias', 'encoder.layer.9.intermediate.dense.weight', 'encoder.layer.9.intermediate.dense.bias', 'encoder.layer.9.output.dense.weight', 'encoder.layer.9.output.dense.bias', 'encoder.layer.9.layernorm_before.weight', 'encoder.layer.9.layernorm_before.bias', 'encoder.layer.9.layernorm_after.weight', 'encoder.layer.9.layernorm_after.bias', 'encoder.layer.10.lambda_1', 'encoder.layer.10.lambda_2', 'encoder.layer.10.attention.attention.query.weight', 'encoder.layer.10.attention.attention.query.bias', 'encoder.layer.10.attention.attention.key.weight', 'encoder.layer.10.attention.attention.value.weight', 'encoder.layer.10.attention.attention.value.bias', 'encoder.layer.10.attention.output.dense.weight', 'encoder.layer.10.attention.output.dense.bias', 'encoder.layer.10.intermediate.dense.weight', 'encoder.layer.10.intermediate.dense.bias', 'encoder.layer.10.output.dense.weight', 'encoder.layer.10.output.dense.bias', 'encoder.layer.10.layernorm_before.weight', 'encoder.layer.10.layernorm_before.bias', 'encoder.layer.10.layernorm_after.weight', 'encoder.layer.10.layernorm_after.bias', 'encoder.layer.11.lambda_1', 'encoder.layer.11.lambda_2', 'encoder.layer.11.attention.attention.query.weight', 'encoder.layer.11.attention.attention.query.bias', 'encoder.layer.11.attention.attention.key.weight', 'encoder.layer.11.attention.attention.value.weight', 'encoder.layer.11.attention.attention.value.bias', 'encoder.layer.11.attention.output.dense.weight', 'encoder.layer.11.attention.output.dense.bias', 'encoder.layer.11.intermediate.dense.weight', 'encoder.layer.11.intermediate.dense.bias', 'encoder.layer.11.output.dense.weight', 'encoder.layer.11.output.dense.bias', 'encoder.layer.11.layernorm_before.weight', 'encoder.layer.11.layernorm_before.bias', 'encoder.layer.11.layernorm_after.weight', 'encoder.layer.11.layernorm_after.bias', 'pooler.layernorm.weight', 'pooler.layernorm.bias'])"
      ]
     },
     "execution_count": 8,
     "metadata": {},
     "output_type": "execute_result"
    }
   ],
   "source": [
    "torch.load(\"dit-base-224-p16-500k-62d53a.pth\").keys()"
   ]
  },
  {
   "cell_type": "markdown",
   "metadata": {},
   "source": [
    "### Visualize Grid feature"
   ]
  },
  {
   "cell_type": "code",
   "execution_count": null,
   "metadata": {},
   "outputs": [],
   "source": []
  },
  {
   "cell_type": "code",
   "execution_count": null,
   "metadata": {},
   "outputs": [],
   "source": []
  }
 ],
 "metadata": {
  "kernelspec": {
   "display_name": "Python 3",
   "language": "python",
   "name": "python3"
  },
  "language_info": {
   "codemirror_mode": {
    "name": "ipython",
    "version": 3
   },
   "file_extension": ".py",
   "mimetype": "text/x-python",
   "name": "python",
   "nbconvert_exporter": "python",
   "pygments_lexer": "ipython3",
   "version": "3.10.13"
  }
 },
 "nbformat": 4,
 "nbformat_minor": 2
}
